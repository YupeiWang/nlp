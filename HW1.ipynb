{
 "cells": [
  {
   "cell_type": "code",
   "execution_count": 362,
   "metadata": {},
   "outputs": [],
   "source": [
    "import jieba\n",
    "import jieba.analyse\n",
    "import pandas as pd"
   ]
  },
  {
   "cell_type": "markdown",
   "metadata": {},
   "source": [
    "### 讀取文章"
   ]
  },
  {
   "cell_type": "code",
   "execution_count": 363,
   "metadata": {},
   "outputs": [],
   "source": [
    "final = \"\"\n",
    "#filename = r\"D:\\cgu\\課程\\四年級\\四上\\自然語言處理\\HW1\\hw1-dataset.txt\"\n",
    "filename = r\"D:\\cgu\\課程\\四年級\\四上\\自然語言處理\\HW1\\test.txt\""
   ]
  },
  {
   "cell_type": "markdown",
   "metadata": {},
   "source": [
    "### 分詞"
   ]
  },
  {
   "cell_type": "code",
   "execution_count": 364,
   "metadata": {},
   "outputs": [
    {
     "name": "stdout",
     "output_type": "stream",
     "text": [
      "['為', '什麼', ' ', '聖結石', ' ', '會', '被', '酸', '而', ' ', '這群', '人', ' ', '不會', '？', '\\t', '質感', ' ', '劇本', ' ', '成員', ' ', '都', '差', '很多', '好', '嗎', ' ', '不要', '拿', '腎', '結石來', '污辱', '這群', '人', '\\n', '為', '什麼', '慶祝', '228', '會', '被', '罵', '可是', '慶', '端午', '不會', '？', '\\t', '因為', '屈原', '不是', '台灣', '人', '，', '是', '楚國人', '。', '\\n', '有', '沒', '有', '戰神', '阿瑞斯', '的', '八卦', '?', '\\t', '爵士', '就是', '阿瑞斯', ' ', '男主角', '最後死', '了', '\\n', '理論', '與', '實務', '最', '脫節', '的', '系', '\\t', '哪個', '系', '不', '脫節', '...', '你問', '最', '不', '脫節', '的', '簡單', '多', '了', '...', '\\n', '為', '什麼', 'PTT', '這麼', '多', '人', '看', '棒球', '\\t', '肥宅', '才', '看', '棒球', '\\u3000', '系壘', '一堆', '胖子', '\\n', '為', '什麼', '達摩祖', '師傳', '那麼', '好看', '?', '\\t', '達摩', '從頭', '到', '尾', '都', '是', '被動', ' ', '(', '別人問', '他', '問題', '\\n', '3D', '小畫家', '有人', '會畫', '嗎', '？', '\\t', '3D', '小當家', '有人', '會畫', '嗎', '\\n', '對', '天龍', '人來', '說', '宜蘭', '4', '南部', '還', '４', '東部', '\\t', '他國', '事務', '..', '\\n', '機車', '推出', 'uber', '或', '計程', '機車會', '怎樣', '\\t', '載到', '肥宅會', '很', '痛苦', '\\n', '台中', '的', '龍邦', '世貿', '有人', '跳樓', '?', '\\t', '曾經', '當過', '全台', '第一', '高樓', '，', '可惜', '不到', '一年', '\\n', '抽到', '海陸會', '被', '笑', '娘', '炮兵', '嗎', '\\t', '還好', '啦', '，', '海陸下', '基地', '常態', '，', '下好', '下滿', '。', '\\n', '國', '高中', '的', '國文', '\\t', '你', '沒', '看', '美國考', 'GRE', ' ', 'GMAT', '都', '要', '考', '高深', '的', '英文', '\\n', '當初', '太陽花', '沒有', '留下', '垃圾', '也', '會', '被', '捧', '？', '\\t', '哪有', '，', '我', '那', '時候', '去', '也', '是', '有', '垃圾', '，', '好像', '是', '白什麼', '的', '\\n', '世界', '上', '最難', '聽', '的', '國歌', '是', '哪首', '\\t', '中華民國', '國歌', '..', '根本', '出山', '的', '節奏', ' ', '國旗', '歌來', '當國歌', '還比較', '合適', '\\n', '雙', 'A', '的', '筆電', '到底', '可不可以', '帶進', '星巴克', '\\t', '帶', '那', '台十幾萬用', '一卡', '皮箱', '裝的', '水冷', '筆電', ' ', '宅到', '出水', '\\n', '歐陽妮', '妮', '的', '男友', '看到', '她', '爸會', '有感', '覺', '嗎', '？', '\\t', '妮妮', '的', '媽媽', '很', '愛揍', '兔子', '布偶', '\\n', '有', '沒', '有', 'imgur', 'ㄉ', '八卦', '？', '\\t', '不要', '浪費', '人家', '空間', '好', '嗎', '\\n', '當年', '的', '潮物', '搖搖筆', '是', '噱頭', '嗎', '？', '\\t', '2020', '搖搖筆', '好', '用', '阿', ' ', '用', '了', '至少', '10', '年', '\\n', '肥宅', '初夜', '可以', '賣', '多少', '？', '\\t', '肥宅', '還是', '去', '打手', '槍', '吧', '\\n', '+', '006', '是', '什麼', '地方', '打來', '的', '電話', '\\t', '你', '被', '國際盜', '懶覺', '集團', '盯上', '了', '\\n', '為', '何北韓', '不', '走向', '新加坡', '的', '模式', '\\t', '又', '缺水', '又', '缺電', ' ', '所以', '水電', '又', '超貴', '的', '新加坡', '設廠', '\\n', '推文', '速度', '跟', '五月天', 'live', '聊天室', '滑速', '哪個', '快', '\\t', '聊', '甜柿', '華起', '來', '\\n', '轉筆', '兼具', '速度', '與', '華麗', '的', '極致', '是', '？', '\\t', '轉一萬次', '後', '說', '不定', '你', '比', '他們', '更', '厲害', '呢', '\\n', '下午茶', '吃', '到', '飽', '的', '起', '手式', '？', '\\t', '先', '吃', '冷', '的', '海鮮生', '魚片', ' ', '然後吃', '熱炸', '的', '海鮮', ' ', '飲料', '不要', '喝太多', '\\n', '兇', '的', '女生', '484', '都', '很', '胸', '\\t', '我', '看', '都', '是', '醜的', '比', '較', '凶', '\\n', '身為', '專業', '人士', '會', '把', '專業', '東西', '隨身', '攜帶', '嗎', '？', '\\t', '身為', '專業', '的', '肥宅', ' ', '都', '會', '把', '脂肪', '放在', '身上', '\\n', '台灣', '的', '運動', '是不是', '只能靠', '原住民', '了', '？', '\\t', '原住民', '又', '不是', '台灣', '人', ' ', '台灣', '人要', '說', '台語', '\\n', '貓貓', '早上', '是不是', '都', '不', '看', '人', '？', '\\t', '這貓貓', '好', '可', '愛', '\\n', '歐', '金金', '是', '哪裡', '的', '形容', '詞', '啊', '？', '\\t', '日文', '肉', '捧', '的', '音譯', '啊', '\\n', '公車', '到', '站', '系統', '到底', '可以', '多', '不准', '\\t', '你', '什麼', '時候', '有', '覺得', '政府', '交作業', '用', '的', '會準', '的', '錯覺', '？', '\\n', '有', '沒', '有', '大學', '排名', '的', '八卦', '？', '\\t', '高醫', '比台', '中', '哪', '兩', '所', '高', '啊', '?', '高醫', '不是', '只有', '醫類', '分數', '高', '嗎', '\\n', '有', '妹妹', '的', '請', '進', '\\t', '我', '兩個', '妹妹', '問說', '你', '到底', '在', '共三小', '\\n', '肥宅', '傳紙', '條給', '正妹', ' ', '要', '寫', '什麼', '才', '有加', '分', '\\t', '本票', '字樣', ' ', ' ', '金額', ' ', ' ', '發票', '日', ' ', ' ', '簽名', '\\n', '有', '沒', '有', '本機', '磁碟', '的', '八卦', '\\t', 'A', '槽', '3.5', '磁片', ' ', 'B', '槽', '5.5', '磁片', ' ', '菜', '逼', '八', '沒', '看過', '吼']\n"
     ]
    }
   ],
   "source": [
    "string = []\n",
    "string1 =[]\n",
    "with open(filename,'r',encoding = 'utf-8') as f:\n",
    "    for line in f.readlines():\n",
    "        word = jieba.lcut(line,cut_all=False)\n",
    "        string.append(word)\n",
    "    #將多個一維陣列合併成一個一維陣列\n",
    "    for i in string :\n",
    "        for w in i :\n",
    "            string1.append(w)\n",
    "    print(string1)"
   ]
  },
  {
   "cell_type": "markdown",
   "metadata": {},
   "source": [
    "### 移除停留詞"
   ]
  },
  {
   "cell_type": "code",
   "execution_count": 365,
   "metadata": {},
   "outputs": [
    {
     "name": "stdout",
     "output_type": "stream",
     "text": [
      "remove_stop_words:  ['為', '什麼', '聖結石', '會', '被', '酸', '而', '這群', '人', '不會', '質感', '劇本', '成員', '都', '差', '很多', '好', '嗎', '不要', '拿', '腎', '結石來', '污辱', '這群', '人', '為', '什麼', '慶祝', '228', '會', '被', '罵', '可是', '慶', '端午', '不會', '因為', '屈原', '不是', '台灣', '人', '是', '楚國人', '。', '沒', '戰神', '阿瑞斯', '八卦', '爵士', '就是', '阿瑞斯', '男主角', '最後死', '了', '理論', '與', '實務', '最', '脫節', '系', '哪個', '系', '不', '脫節', '你問', '最', '不', '脫節', '簡單', '多', '了', '為', '什麼', 'PTT', '這麼', '多', '人', '看', '棒球', '肥宅', '才', '看', '棒球', '\\u3000', '系壘', '一堆', '胖子', '為', '什麼', '達摩祖', '師傳', '那麼', '好看', '達摩', '從頭', '到', '尾', '都', '是', '被動', '(', '別人問', '他', '問題', '3D', '小畫家', '有人', '會畫', '嗎', '3D', '小當家', '有人', '會畫', '嗎', '對', '天龍', '人來', '說', '宜蘭', '4', '南部', '還', '４', '東部', '他國', '事務', '機車', '推出', 'uber', '或', '計程', '機車會', '怎樣', '載到', '肥宅會', '很', '痛苦', '台中', '龍邦', '世貿', '有人', '跳樓', '曾經', '當過', '全台', '第一', '高樓', '可惜', '不到', '一年', '抽到', '海陸會', '被', '笑', '娘', '炮兵', '嗎', '還好', '啦', '海陸下', '基地', '常態', '下好', '下滿', '。', '國', '高中', '國文', '你', '沒', '看', '美國考', 'GRE', 'GMAT', '都', '要', '考', '高深', '英文', '當初', '太陽花', '沒有', '留下', '垃圾', '也', '會', '被', '捧', '哪有', '我', '那', '時候', '去', '也', '是', '垃圾', '好像', '是', '白什麼', '世界', '上', '最難', '聽', '國歌', '是', '哪首', '中華民國', '國歌', '根本', '出山', '節奏', '國旗', '歌來', '當國歌', '還比較', '合適', '雙', 'A', '筆電', '到底', '可不可以', '帶進', '星巴克', '帶', '那', '台十幾萬用', '一卡', '皮箱', '裝的', '水冷', '筆電', '宅到', '出水', '歐陽妮', '妮', '男友', '看到', '她', '爸會', '有感', '覺', '嗎', '妮妮', '媽媽', '很', '愛揍', '兔子', '布偶', '沒', 'imgur', 'ㄉ', '八卦', '不要', '浪費', '人家', '空間', '好', '嗎', '當年', '潮物', '搖搖筆', '是', '噱頭', '嗎', '2020', '搖搖筆', '好', '用', '阿', '用', '了', '至少', '10', '年', '肥宅', '初夜', '可以', '賣', '多少', '肥宅', '還是', '去', '打手', '槍', '吧', '+', '006', '是', '什麼', '地方', '打來', '電話', '你', '被', '國際盜', '懶覺', '集團', '盯上', '了', '為', '何北韓', '不', '走向', '新加坡', '模式', '又', '缺水', '又', '缺電', '所以', '水電', '又', '超貴', '新加坡', '設廠', '推文', '速度', '跟', '五月天', 'live', '聊天室', '滑速', '哪個', '快', '聊', '甜柿', '華起', '來', '轉筆', '兼具', '速度', '與', '華麗', '極致', '是', '轉一萬次', '後', '說', '不定', '你', '比', '他們', '更', '厲害', '呢', '下午茶', '吃', '到', '飽', '起', '手式', '先', '吃', '冷', '海鮮生', '魚片', '然後吃', '熱炸', '海鮮', '飲料', '不要', '喝太多', '兇', '女生', '484', '都', '很', '胸', '我', '看', '都', '是', '醜的', '比', '較', '凶', '身為', '專業', '人士', '會', '把', '專業', '東西', '隨身', '攜帶', '嗎', '身為', '專業', '肥宅', '都', '會', '把', '脂肪', '放在', '身上', '台灣', '運動', '是不是', '只能靠', '原住民', '了', '原住民', '又', '不是', '台灣', '人', '台灣', '人要', '說', '台語', '貓貓', '早上', '是不是', '都', '不', '看', '人', '這貓貓', '好', '可', '愛', '歐', '金金', '是', '哪裡', '形容', '詞', '啊', '日文', '肉', '捧', '音譯', '啊', '公車', '到', '站', '系統', '到底', '可以', '多', '不准', '你', '什麼', '時候', '覺得', '政府', '交作業', '用', '會準', '錯覺', '沒', '大學', '排名', '八卦', '高醫', '比台', '中', '哪', '兩', '所', '高', '啊', '高醫', '不是', '只有', '醫類', '分數', '高', '嗎', '妹妹', '請', '進', '我', '兩個', '妹妹', '問說', '你', '到底', '在', '共三小', '肥宅', '傳紙', '條給', '正妹', '要', '寫', '什麼', '才', '有加', '分', '本票', '字樣', '金額', '發票', '日', '簽名', '沒', '本機', '磁碟', '八卦', 'A', '槽', '3.5', '磁片', 'B', '槽', '5.5', '磁片', '菜', '逼', '八', '沒', '看過', '吼']\n"
     ]
    }
   ],
   "source": [
    "new_list = []\n",
    "def remove_stop_words(file_name,string1):\n",
    "    with open(file_name,'r',encoding=\"utf-8\") as f:\n",
    "        stop_words = f.readlines()\n",
    "    stop_words = [stop_word.rstrip() for stop_word in stop_words]\n",
    "  \n",
    "    for seg in string1:\n",
    "        if seg not in stop_words:\n",
    "            if seg == '\\n':\n",
    "                continue\n",
    "            elif seg == '\\t':\n",
    "                continue\n",
    "            elif seg == ' ':\n",
    "                continue                \n",
    "            else:\n",
    "                new_list.append(seg) #若在for loop裡用remove的話則會改變總長度\n",
    "    return new_list\n",
    "\n",
    "file_name = './停留詞.txt'\n",
    "string1 = remove_stop_words(file_name,string1)\n",
    "print('remove_stop_words: ',string1)"
   ]
  },
  {
   "cell_type": "markdown",
   "metadata": {},
   "source": [
    "### TF-IDF權重"
   ]
  },
  {
   "cell_type": "code",
   "execution_count": 367,
   "metadata": {},
   "outputs": [
    {
     "name": "stdout",
     "output_type": "stream",
     "text": [
      "這群\n",
      "1.9924612504833332\n",
      "什麼\n",
      "1.0867970457181817\n",
      "阿瑞斯\n",
      "2.955309027575\n",
      "脫節\n",
      "3.5864302508699994\n",
      "棒球\n",
      "2.3737337393555555\n",
      "什麼\n",
      "1.19547675029\n",
      "3D\n",
      "2.988691875725\n",
      "天龍\n",
      "1.4943459378625\n",
      "機車\n",
      "1.3283075003222222\n",
      "龍邦\n",
      "0.9195975002230768\n",
      "下好\n",
      "1.3904870323222223\n",
      "國文\n",
      "1.7078239289857142\n",
      "垃圾\n",
      "1.5979762015880001\n",
      "國歌\n",
      "1.5939690003866667\n",
      "筆電\n",
      "1.8391950004461537\n",
      "歐陽妮\n",
      "1.19547675029\n",
      "imgur\n",
      "1.9924612504833332\n",
      "搖搖筆\n",
      "2.988691875725\n",
      "肥宅\n",
      "3.4156478579714284\n",
      "006\n",
      "1.3283075003222222\n",
      "新加坡\n",
      "1.3306640932872726\n",
      "甜柿\n",
      "1.467503385711111\n",
      "轉筆\n",
      "1.3283075003222222\n",
      "手式\n",
      "1.19547675029\n",
      "484\n",
      "3.9849225009666664\n",
      "專業\n",
      "2.7587925006692307\n",
      "台灣\n",
      "3.260391137154545\n",
      "貓貓\n",
      "2.988691875725\n",
      "金金\n",
      "2.4582479479\n",
      "公車\n",
      "0.9962306252416666\n",
      "高醫\n",
      "2.39095350058\n",
      "妹妹\n",
      "2.34215971884\n",
      "肥宅\n",
      "1.0867970457181817\n",
      "磁片\n",
      "3.072809934875\n"
     ]
    }
   ],
   "source": [
    "tagWordArr = []\n",
    "weightArr =[]\n",
    "with open(filename,'r',encoding = 'utf-8') as f:\n",
    "    for line in f.readlines():\n",
    "        #topK 為返回 TF-IDF 權重最大的關鍵詞(一篇文章一個topK)\n",
    "        #withWeight 代表是否返回關鍵字權重值，默認為 False\n",
    "        tags = jieba.analyse.extract_tags(line, topK=1, withWeight=True)\n",
    "        for tag in tags:\n",
    "            #print('word:', tag[0], 'tf-idf:', tag[1])\n",
    "            print(tag[0])\n",
    "            print(tag[1])"
   ]
  },
  {
   "cell_type": "markdown",
   "metadata": {},
   "source": [
    "### 詞頻統計"
   ]
  },
  {
   "cell_type": "code",
   "execution_count": 338,
   "metadata": {},
   "outputs": [],
   "source": [
    "new={}\n",
    "wordArr = []\n",
    "countArr =[]\n",
    "#通過對程式的檢查，對程式進行完善\n",
    "for word in string1:\n",
    "    # 對原來的字典new中判斷是否有rword這個人，沒有就返回0，\n",
    "    # 賦予rword鍵有就在原來rword所對應的值加1，並賦予rword鍵\n",
    "    new[word]=new.get(word,0)+1\n",
    "    \n",
    "item=list(new.items())\n",
    "item.sort(key=lambda x:x[1],reverse=True)\n",
    "for i in range(100):\n",
    "    word,count=item[i]\n",
    "    wordArr.append(word)\n",
    "    countArr.append(count)\n",
    "    #print(\"{0:<10}{1:>5}\".format(word,count))"
   ]
  },
  {
   "cell_type": "markdown",
   "metadata": {},
   "source": [
    "### 頻率長條圖 "
   ]
  },
  {
   "cell_type": "code",
   "execution_count": 361,
   "metadata": {},
   "outputs": [
    {
     "data": {
      "text/plain": [
       "<BarContainer object of 100 artists>"
      ]
     },
     "execution_count": 361,
     "metadata": {},
     "output_type": "execute_result"
    },
    {
     "data": {
      "image/png": "[encoded data removed]",
      "text/plain": [
       "<Figure size 3600x360 with 1 Axes>"
      ]
     },
     "metadata": {
      "needs_background": "light"
     },
     "output_type": "display_data"
    }
   ],
   "source": [
    "import matplotlib.pyplot as plt\n",
    "import matplotlib\n",
    "matplotlib.rc(\"font\",family='SimSun')\n",
    "#x = [1,2,3,4,5,6,7,8,9,10]\n",
    "plt.figure(figsize=(50,5))\n",
    "#plt.bar(x, countArr, label = 'wordArr')\n",
    "plt.bar(wordArr, countArr, label = 'wordArr')"
   ]
  },
  {
   "cell_type": "code",
   "execution_count": null,
   "metadata": {},
   "outputs": [],
   "source": []
  }
 ],
 "metadata": {
  "kernelspec": {
   "display_name": "Python 3",
   "language": "python",
   "name": "python3"
  },
  "language_info": {
   "codemirror_mode": {
    "name": "ipython",
    "version": 3
   },
   "file_extension": ".py",
   "mimetype": "text/x-python",
   "name": "python",
   "nbconvert_exporter": "python",
   "pygments_lexer": "ipython3",
   "version": "3.8.5"
  }
 },
 "nbformat": 4,
 "nbformat_minor": 4
}
