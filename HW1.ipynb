{
 "cells": [
  {
   "cell_type": "code",
   "execution_count": 70,
   "metadata": {},
   "outputs": [],
   "source": [
    "import jieba\n",
    "import jieba.analyse\n",
    "import pandas as pd\n",
    "import matplotlib.pyplot as plt\n",
    "import matplotlib"
   ]
  },
  {
   "cell_type": "code",
   "execution_count": 71,
   "metadata": {},
   "outputs": [],
   "source": [
    "filename = r\"D:\\cgu\\課程\\四年級\\四上\\自然語言處理\\HW1\\hw1-dataset.txt\"\n",
    "#filename = r\"D:\\cgu\\課程\\四年級\\四上\\自然語言處理\\HW1\\test.txt\""
   ]
  },
  {
   "cell_type": "markdown",
   "metadata": {},
   "source": [
    "### 分詞"
   ]
  },
  {
   "cell_type": "code",
   "execution_count": 72,
   "metadata": {
    "scrolled": true
   },
   "outputs": [
    {
     "name": "stderr",
     "output_type": "stream",
     "text": [
      "Building prefix dict from D:\\cgu\\課程\\四年級\\四上\\自然語言處理\\HW1\\dict.txt-v2.big ...\n",
      "Loading model from cache C:\\Users\\user\\AppData\\Local\\Temp\\jieba.u43bb23e86e4b3834da3c7bce3abff3c8.cache\n",
      "Loading model cost 0.628 seconds.\n",
      "Prefix dict has been built successfully.\n"
     ]
    }
   ],
   "source": [
    "jieba.set_dictionary('dict.txt-v2.big')    \n",
    "\n",
    "string2=['']\n",
    "with open(\"hw1-dataset.txt\", \"r\",encoding = 'utf-8') as f:\n",
    "#with open(\"test.txt\", \"r\",encoding = 'utf-8') as f:\n",
    "    data = f.read().splitlines()\n",
    "    string2=data\n",
    "stri = \"\".join(string2)\n",
    "string1 = jieba.lcut(stri,cut_all=False)"
   ]
  },
  {
   "cell_type": "markdown",
   "metadata": {},
   "source": [
    "### 移除停留詞"
   ]
  },
  {
   "cell_type": "code",
   "execution_count": 73,
   "metadata": {},
   "outputs": [],
   "source": [
    "new_list = []\n",
    "def remove_stop_words(file_name,string1):\n",
    "    with open(file_name,'r',encoding=\"utf-8\") as f:\n",
    "        stop_words = f.readlines()\n",
    "    stop_words = [stop_word.rstrip() for stop_word in stop_words]\n",
    "  \n",
    "    for seg in string1:\n",
    "        if seg not in stop_words:\n",
    "            if seg == '\\n':\n",
    "                continue\n",
    "            elif seg == '\\t':\n",
    "                continue\n",
    "            elif seg == ' ':\n",
    "                continue\n",
    "            elif len(seg) == 1:\n",
    "                continue\n",
    "            else:\n",
    "                new_list.append(seg) #若在for loop裡用remove的話則會改變總長度\n",
    "    return new_list\n",
    "\n",
    "file_name = './停留詞.txt'\n",
    "string1 = remove_stop_words(file_name,string1)\n",
    "#print('remove_stop_words: ',string1)"
   ]
  },
  {
   "cell_type": "markdown",
   "metadata": {},
   "source": [
    "### 詞頻統計"
   ]
  },
  {
   "cell_type": "code",
   "execution_count": 74,
   "metadata": {},
   "outputs": [],
   "source": [
    "new={}\n",
    "wordArr = []\n",
    "countArr =[]\n",
    "allWordNum=0\n",
    "for word in string1:\n",
    "    # 對原來的字典new中判斷是否有rword這個人，沒有就返回0，\n",
    "    # 賦予rword鍵有就在原來rword所對應的值加1，並賦予rword鍵\n",
    "    new[word]=new.get(word,0)+1\n",
    "    allWordNum+=1\n",
    "\n",
    "for word in new :\n",
    "    new[word]=new[word]/allWordNum\n",
    "    \n",
    "#print(new)\n",
    "item=list(new.items())\n",
    "#print(new.items())\n",
    "#print(allWordNum)\n",
    "item.sort(key=lambda x:x[1],reverse=True)\n",
    "for i in range(100):\n",
    "    word,count=item[i]\n",
    "    wordArr.append(word)\n",
    "    countArr.append(count)"
   ]
  },
  {
   "cell_type": "markdown",
   "metadata": {},
   "source": [
    "### 頻率長條圖 "
   ]
  },
  {
   "cell_type": "code",
   "execution_count": 75,
   "metadata": {},
   "outputs": [
    {
     "name": "stdout",
     "output_type": "stream",
     "text": [
      "1 : 八卦\n",
      "2 : 有沒有\n",
      "3 : 什麼\n",
      "4 : 台灣\n",
      "5 : 可以\n",
      "6 : 是不是\n",
      "7 : 為什麼\n",
      "8 : 怎麼\n",
      "9 : 肥宅\n",
      "10 : 現在\n",
      "11 : 真的\n",
      "12 : 比較\n",
      "13 : 不會\n",
      "14 : 知道\n",
      "15 : 自己\n",
      "16 : 怎麼辦\n",
      "17 : 沒有\n",
      "18 : 不是\n",
      "19 : 還是\n",
      "20 : 一個\n",
      "21 : 就是\n",
      "22 : 如果\n",
      "23 : 一堆\n",
      "24 : 這樣\n",
      "25 : 一樣\n",
      "26 : 覺得\n",
      "27 : 怎樣\n",
      "28 : 到底\n",
      "29 : 日本\n",
      "30 : 喜歡\n",
      "31 : 不要\n",
      "32 : 時候\n",
      "33 : 大家\n",
      "34 : 美國\n",
      "35 : 有人\n",
      "36 : 很多\n",
      "37 : 為何\n",
      "38 : 台灣人\n",
      "39 : 應該\n",
      "40 : 問題\n",
      "41 : 感覺\n",
      "42 : 哪個\n",
      "43 : 幹嘛\n",
      "44 : 看到\n",
      "45 : 朋友\n",
      "46 : 這麼\n",
      "47 : 因為\n",
      "48 : 如何\n",
      "49 : 還有\n",
      "50 : 一直\n",
      "51 : 這種\n",
      "52 : 中國\n",
      "53 : 東西\n",
      "54 : 女生\n",
      "55 : 其實\n",
      "56 : 不能\n",
      "57 : 別人\n",
      "58 : 出來\n",
      "59 : 然後\n",
      "60 : 開始\n",
      "61 : 不用\n",
      "62 : 根本\n",
      "63 : 一定\n",
      "64 : 正妹\n",
      "65 : 國家\n",
      "66 : 多少\n",
      "67 : 國人\n",
      "68 : 那麼\n",
      "69 : 的話\n",
      "70 : 只有\n",
      "71 : 鄉民\n",
      "72 : 可能\n",
      "73 : 以前\n",
      "74 : 這個\n",
      "75 : 哪裡\n",
      "76 : 已經\n",
      "77 : 甚麼\n",
      "78 : QQ\n",
      "79 : 妹妹\n",
      "80 : 一下\n",
      "81 : 今天\n",
      "82 : 那個\n",
      "83 : 大學\n",
      "84 : 請問\n",
      "85 : 時間\n",
      "86 : 所以\n",
      "87 : 直接\n",
      "88 : 邊緣\n",
      "89 : 老師\n",
      "90 : 只是\n",
      "91 : 變成\n",
      "92 : 發現\n",
      "93 : 最後\n",
      "94 : 好吃\n",
      "95 : 韓國\n",
      "96 : 他們\n",
      "97 : 世界\n",
      "98 : 男生\n",
      "99 : 不到\n",
      "100 : 老婆\n"
     ]
    },
    {
     "data": {
      "text/plain": [
       "<BarContainer object of 100 artists>"
      ]
     },
     "execution_count": 75,
     "metadata": {},
     "output_type": "execute_result"
    },
    {
     "data": {
      "image/png": "[encoded data removed]",
      "text/plain": [
       "<Figure size 3600x360 with 1 Axes>"
      ]
     },
     "metadata": {
      "needs_background": "light"
     },
     "output_type": "display_data"
    }
   ],
   "source": [
    "num = []\n",
    "index=1\n",
    "\n",
    "for i in range(100):\n",
    "    num.append(index)\n",
    "    print(index,\":\",wordArr[i])\n",
    "    index+=1\n",
    "\n",
    "matplotlib.rc(\"font\",family='SimSun')\n",
    "plt.figure(figsize=(50,5))\n",
    "plt.bar(num, countArr)"
   ]
  },
  {
   "cell_type": "markdown",
   "metadata": {},
   "source": [
    "### TF-IDF權重"
   ]
  },
  {
   "cell_type": "code",
   "execution_count": 76,
   "metadata": {},
   "outputs": [],
   "source": [
    "tagWordArr = []\n",
    "weightArr =[]\n",
    "with open(filename,'r',encoding = 'utf-8') as f:\n",
    "    for line in f.readlines():\n",
    "        #topK 為返回 TF-IDF 權重最大的關鍵詞(一篇文章一個topK)\n",
    "        #withWeight 代表是否返回關鍵字權重值，默認為 False\n",
    "        #tags = jieba.analyse.extract_tags(line, topK=5, withWeight=True)\n",
    "        tags = jieba.analyse.extract_tags(line, withWeight=True)\n",
    "        for tag in tags:\n",
    "            if len(tag) == 1:\n",
    "                continue\n",
    "            else :\n",
    "                tagWordArr.append(tag[0])\n",
    "                weightArr.append(tag[1])"
   ]
  },
  {
   "cell_type": "code",
   "execution_count": 77,
   "metadata": {},
   "outputs": [],
   "source": [
    "def Merge_Sort(array,word):\n",
    "    if len(array) > 1:\n",
    "        mid = len(array) // 2\n",
    "        left_array = array[:mid]\n",
    "        right_array = array[mid:]\n",
    "        left_array1 = word[:mid]\n",
    "        right_array1 = word[mid:]        \n",
    "\n",
    "        Merge_Sort(left_array,left_array1)\n",
    "        Merge_Sort(right_array,right_array1)\n",
    "\n",
    "        right_index = 0;\n",
    "        left_index = 0;\n",
    "        merged_index = 0;\n",
    "        while right_index < len(right_array) and left_index < len(left_array):\n",
    "            if(right_array[right_index] < left_array[left_index]):\n",
    "                array[merged_index] = right_array[right_index]\n",
    "                word[merged_index] = right_array1[right_index]\n",
    "                right_index = right_index + 1\n",
    "            else:\n",
    "                array[merged_index] = left_array[left_index]\n",
    "                word[merged_index] = left_array1[left_index]\n",
    "                left_index = left_index + 1\n",
    "\n",
    "            merged_index = merged_index + 1\n",
    "\n",
    "        while right_index < len(right_array):\n",
    "            array[merged_index] = right_array[right_index]\n",
    "            word[merged_index] = right_array1[right_index]\n",
    "            right_index = right_index + 1\n",
    "            merged_index = merged_index + 1\n",
    "\n",
    "        while left_index < len(left_array):\n",
    "            array[merged_index] = left_array[left_index]\n",
    "            word[merged_index] = left_array1[left_index]\n",
    "            left_index = left_index + 1\n",
    "            merged_index = merged_index + 1\n",
    "\n",
    "Merge_Sort(weightArr,tagWordArr)\n",
    "\n",
    "weightArr100=[]\n",
    "tagWordArr100=[]\n",
    "weightArr100=weightArr[-100:]\n",
    "tagWordArr100=tagWordArr[-100:]\n",
    "\n",
    "tagWordArr100.reverse()\n",
    "weightArr100.reverse()"
   ]
  },
  {
   "cell_type": "markdown",
   "metadata": {},
   "source": [
    "### TF-IDF長條圖 "
   ]
  },
  {
   "cell_type": "code",
   "execution_count": 78,
   "metadata": {},
   "outputs": [
    {
     "name": "stdout",
     "output_type": "stream",
     "text": [
      "1 : 蹦蹦跳\n",
      "2 : 蹦蹦跳\n",
      "3 : 卡米\n",
      "4 : 三小\n",
      "5 : 吉吉\n",
      "6 : 功高震主\n",
      "7 : 咪咪\n",
      "8 : 告白\n",
      "9 : TENGA\n",
      "10 : 怎麼\n",
      "11 : 嘻三小\n",
      "12 : 無聊\n",
      "13 : 修幹\n",
      "14 : 最愛\n",
      "15 : 工頭\n",
      "16 : 不會\n",
      "17 : 這樣\n",
      "18 : OAO\n",
      "19 : 敢動\n",
      "20 : 小褲\n",
      "21 : 魯蛇腫\n",
      "22 : 當你\n",
      "23 : 當你個\n",
      "24 : 無理\n",
      "25 : 西門\n",
      "26 : 人聲\n",
      "27 : 2222222222222\n",
      "28 : 種子\n",
      "29 : 因為\n",
      "30 : 金爆\n",
      "31 : 我問\n",
      "32 : 哪個\n",
      "33 : 滾喇幹\n",
      "34 : 達人\n",
      "35 : 幹菲力斯\n",
      "36 : 有蘿莉控\n",
      "37 : 這件\n",
      "38 : 沒有\n",
      "39 : 三葉\n",
      "40 : 機勒\n",
      "41 : 藍藍\n",
      "42 : 之聲\n",
      "43 : 媽媽\n",
      "44 : 好小好\n",
      "45 : 起風\n",
      "46 : 10000p\n",
      "47 : 蘇美\n",
      "48 : 有沒有\n",
      "49 : 幾點\n",
      "50 : 文之亂\n",
      "51 : 大金剛\n",
      "52 : 傷心\n",
      "53 : 借錢\n",
      "54 : 一點\n",
      "55 : skyjazz\n",
      "56 : 警報\n",
      "57 : 超肥\n",
      "58 : 知味\n",
      "59 : 初音\n",
      "60 : sivhd\n",
      "61 : 出國\n",
      "62 : 吃海鮮\n",
      "63 : 一樣\n",
      "64 : 公三小\n",
      "65 : 賺錢\n",
      "66 : 鄉下\n",
      "67 : 什麼\n",
      "68 : 中槍\n",
      "69 : OO\n",
      "70 : 推娃\n",
      "71 : 媽媽\n",
      "72 : 道術\n",
      "73 : enter\n",
      "74 : 雙重標準\n",
      "75 : 杉林溪\n",
      "76 : 中國撈\n",
      "77 : 77\n",
      "78 : 偽物\n",
      "79 : 一隻\n",
      "80 : 楊桃\n",
      "81 : louiswoman\n",
      "82 : 越來越\n",
      "83 : 炸彈\n",
      "84 : 50\n",
      "85 : 生日快樂\n",
      "86 : 問號\n",
      "87 : 什麼\n",
      "88 : rz\n",
      "89 : 迷唇\n",
      "90 : 有沒有\n",
      "91 : 什麼\n",
      "92 : IKEAR\n",
      "93 : 機車\n",
      "94 : 劍來\n",
      "95 : 結冰\n",
      "96 : 八年級\n",
      "97 : 進來\n",
      "98 : 愛我\n",
      "99 : 一切順利\n",
      "100 : 一個\n"
     ]
    },
    {
     "data": {
      "text/plain": [
       "<BarContainer object of 100 artists>"
      ]
     },
     "execution_count": 78,
     "metadata": {},
     "output_type": "execute_result"
    },
    {
     "data": {
      "image/png": "[encoded data removed]",
      "text/plain": [
       "<Figure size 3600x360 with 1 Axes>"
      ]
     },
     "metadata": {
      "needs_background": "light"
     },
     "output_type": "display_data"
    }
   ],
   "source": [
    "import matplotlib.pyplot as plt\n",
    "import matplotlib\n",
    "\n",
    "#weightArr100=weightArr[0:100]\n",
    "#tagWordArr100=tagWordArr[0:100]\n",
    "num = []\n",
    "index=1\n",
    "for i in range(100):\n",
    "    num.append(index)\n",
    "    print(index,\":\",tagWordArr100[i])\n",
    "    index+=1\n",
    "\n",
    "plt.figure(figsize=(50,5))\n",
    "plt.bar(num, weightArr100)"
   ]
  },
  {
   "cell_type": "code",
   "execution_count": null,
   "metadata": {},
   "outputs": [],
   "source": []
  }
 ],
 "metadata": {
  "kernelspec": {
   "display_name": "Python 3",
   "language": "python",
   "name": "python3"
  },
  "language_info": {
   "codemirror_mode": {
    "name": "ipython",
    "version": 3
   },
   "file_extension": ".py",
   "mimetype": "text/x-python",
   "name": "python",
   "nbconvert_exporter": "python",
   "pygments_lexer": "ipython3",
   "version": "3.8.5"
  }
 },
 "nbformat": 4,
 "nbformat_minor": 4
}
