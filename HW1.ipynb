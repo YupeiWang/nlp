{
 "cells": [
  {
   "cell_type": "code",
   "execution_count": 1,
   "metadata": {},
   "outputs": [],
   "source": [
    "import jieba\n",
    "import jieba.analyse\n",
    "import pandas as pd"
   ]
  },
  {
   "cell_type": "markdown",
   "metadata": {},
   "source": [
    "### 分詞"
   ]
  },
  {
   "cell_type": "code",
   "execution_count": null,
   "metadata": {
    "scrolled": true
   },
   "outputs": [
    {
     "name": "stderr",
     "output_type": "stream",
     "text": [
      "Building prefix dict from the default dictionary ...\n",
      "Loading model from cache C:\\Users\\user\\AppData\\Local\\Temp\\jieba.cache\n",
      "Loading model cost 0.616 seconds.\n",
      "Prefix dict has been built successfully.\n"
     ]
    }
   ],
   "source": [
    "string2=['']\n",
    "with open(\"hw1-dataset.txt\", \"r\",encoding = 'utf-8') as f:\n",
    "    data = f.read().splitlines()\n",
    "    #print(data)\n",
    "    #print(type(data))\n",
    "    string2=data\n",
    "stri = \"\".join(string2)\n",
    "#print(stri)\n",
    "string1 = jieba.lcut(stri,cut_all=False)\n",
    "#print(string1)\n",
    "#print(type(stri))"
   ]
  },
  {
   "cell_type": "markdown",
   "metadata": {},
   "source": [
    "### 移除停留詞"
   ]
  },
  {
   "cell_type": "code",
   "execution_count": null,
   "metadata": {},
   "outputs": [],
   "source": [
    "new_list = []\n",
    "def remove_stop_words(file_name,string1):\n",
    "    with open(file_name,'r',encoding=\"utf-8\") as f:\n",
    "        stop_words = f.readlines()\n",
    "    stop_words = [stop_word.rstrip() for stop_word in stop_words]\n",
    "  \n",
    "    for seg in string1:\n",
    "        if seg not in stop_words:\n",
    "            if seg == '\\n':\n",
    "                continue\n",
    "            elif seg == '\\t':\n",
    "                continue\n",
    "            elif seg == ' ':\n",
    "                continue                \n",
    "            else:\n",
    "                new_list.append(seg) #若在for loop裡用remove的話則會改變總長度\n",
    "    return new_list\n",
    "\n",
    "file_name = './停留詞.txt'\n",
    "string1 = remove_stop_words(file_name,string1)\n",
    "#print('remove_stop_words: ',string1)"
   ]
  },
  {
   "cell_type": "markdown",
   "metadata": {},
   "source": [
    "### TF-IDF權重"
   ]
  },
  {
   "cell_type": "code",
   "execution_count": null,
   "metadata": {},
   "outputs": [],
   "source": [
    "tagWordArr = []\n",
    "weightArr =[]\n",
    "\n",
    "tags = jieba.analyse.extract_tags(stri, topK=100, withWeight=True)\n",
    "for tag in tags:\n",
    "    tagWordArr.append(tag[0])\n",
    "    weightArr.append(tag[1])\n",
    "    \n",
    "#print(tagWordArr)\n",
    "#print(weightArr)"
   ]
  },
  {
   "cell_type": "markdown",
   "metadata": {},
   "source": [
    "### TF-IDF長條圖 "
   ]
  },
  {
   "cell_type": "code",
   "execution_count": null,
   "metadata": {},
   "outputs": [],
   "source": [
    "import matplotlib.pyplot as plt\n",
    "import matplotlib\n",
    "\n",
    "matplotlib.rc(\"font\",family='SimSun')\n",
    "plt.figure(figsize=(50,5))\n",
    "#plt.bar(x, countArr, label = 'wordArr')\n",
    "plt.bar(tagWordArr, weightArr)"
   ]
  },
  {
   "cell_type": "markdown",
   "metadata": {},
   "source": [
    "### 詞頻統計"
   ]
  },
  {
   "cell_type": "code",
   "execution_count": null,
   "metadata": {},
   "outputs": [],
   "source": [
    "new={}\n",
    "wordArr = []\n",
    "countArr =[]\n",
    "#通過對程式的檢查，對程式進行完善\n",
    "for word in string1:\n",
    "    # 對原來的字典new中判斷是否有rword這個人，沒有就返回0，\n",
    "    # 賦予rword鍵有就在原來rword所對應的值加1，並賦予rword鍵\n",
    "    new[word]=new.get(word,0)+1\n",
    "    \n",
    "item=list(new.items())\n",
    "item.sort(key=lambda x:x[1],reverse=True)\n",
    "for i in range(100):\n",
    "    word,count=item[i]\n",
    "    wordArr.append(word)\n",
    "    countArr.append(count)\n",
    "    #print(\"{0:<10}{1:>5}\".format(word,count))"
   ]
  },
  {
   "cell_type": "markdown",
   "metadata": {},
   "source": [
    "### 頻率長條圖 "
   ]
  },
  {
   "cell_type": "code",
   "execution_count": null,
   "metadata": {},
   "outputs": [],
   "source": [
    "matplotlib.rc(\"font\",family='SimSun')\n",
    "#x = [1,2,3,4,5,6,7,8,9,10]\n",
    "plt.figure(figsize=(50,5))\n",
    "#plt.bar(x, countArr, label = 'wordArr')\n",
    "plt.bar(wordArr, countArr, label = 'wordArr')"
   ]
  }
 ],
 "metadata": {
  "kernelspec": {
   "display_name": "Python 3",
   "language": "python",
   "name": "python3"
  },
  "language_info": {
   "codemirror_mode": {
    "name": "ipython",
    "version": 3
   },
   "file_extension": ".py",
   "mimetype": "text/x-python",
   "name": "python",
   "nbconvert_exporter": "python",
   "pygments_lexer": "ipython3",
   "version": "3.8.5"
  }
 },
 "nbformat": 4,
 "nbformat_minor": 4
}
