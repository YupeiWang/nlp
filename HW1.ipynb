{
 "cells": [
  {
   "cell_type": "code",
   "execution_count": 11,
   "metadata": {},
   "outputs": [],
   "source": [
    "import jieba\n",
    "import jieba.analyse\n",
    "import pandas as pd\n",
    "import matplotlib.pyplot as plt\n",
    "import matplotlib"
   ]
  },
  {
   "cell_type": "markdown",
   "metadata": {},
   "source": [
    "### 分詞"
   ]
  },
  {
   "cell_type": "code",
   "execution_count": 13,
   "metadata": {
    "scrolled": true
   },
   "outputs": [
    {
     "name": "stderr",
     "output_type": "stream",
     "text": [
      "Building prefix dict from D:\\cgu\\課程\\四年級\\四上\\自然語言處理\\HW1\\dict.txt-v2.big ...\n",
      "DEBUG:jieba:Building prefix dict from D:\\cgu\\課程\\四年級\\四上\\自然語言處理\\HW1\\dict.txt-v2.big ...\n",
      "Loading model from cache C:\\Users\\user\\AppData\\Local\\Temp\\jieba.u43bb23e86e4b3834da3c7bce3abff3c8.cache\n",
      "DEBUG:jieba:Loading model from cache C:\\Users\\user\\AppData\\Local\\Temp\\jieba.u43bb23e86e4b3834da3c7bce3abff3c8.cache\n",
      "Loading model cost 2.991 seconds.\n",
      "DEBUG:jieba:Loading model cost 2.991 seconds.\n",
      "Prefix dict has been built successfully.\n",
      "DEBUG:jieba:Prefix dict has been built successfully.\n"
     ]
    }
   ],
   "source": [
    "jieba.set_dictionary('dict.txt-v2.big')    \n",
    "\n",
    "string2=['']\n",
    "#with open(\"hw1-dataset.txt\", \"r\",encoding = 'utf-8') as f:\n",
    "with open(\"hw1-dataset.txt\", \"r\",encoding = 'utf-8') as f:\n",
    "    data = f.read().splitlines()\n",
    "    string2=data\n",
    "stri = \"\".join(string2)\n",
    "string1 = jieba.lcut(stri,cut_all=False)"
   ]
  },
  {
   "cell_type": "markdown",
   "metadata": {},
   "source": [
    "### 移除停留詞"
   ]
  },
  {
   "cell_type": "code",
   "execution_count": 14,
   "metadata": {},
   "outputs": [],
   "source": [
    "new_list = []\n",
    "def remove_stop_words(file_name,string1):\n",
    "    with open(file_name,'r',encoding=\"utf-8\") as f:\n",
    "        stop_words = f.readlines()\n",
    "    stop_words = [stop_word.rstrip() for stop_word in stop_words]\n",
    "  \n",
    "    for seg in string1:\n",
    "        if seg not in stop_words:\n",
    "            if seg == '\\n':\n",
    "                continue\n",
    "            elif seg == '\\t':\n",
    "                continue\n",
    "            elif seg == ' ':\n",
    "                continue\n",
    "            elif len(seg) == 1:\n",
    "                continue\n",
    "            else:\n",
    "                new_list.append(seg) #若在for loop裡用remove的話則會改變總長度\n",
    "    return new_list\n",
    "\n",
    "file_name = './停留詞.txt'\n",
    "string1 = remove_stop_words(file_name,string1)\n",
    "#print('remove_stop_words: ',string1)"
   ]
  },
  {
   "cell_type": "markdown",
   "metadata": {},
   "source": [
    "### 詞頻統計"
   ]
  },
  {
   "cell_type": "code",
   "execution_count": 15,
   "metadata": {},
   "outputs": [],
   "source": [
    "new={}\n",
    "wordArr = []\n",
    "countArr =[]\n",
    "allWordNum=0\n",
    "for word in string1:\n",
    "    # 對原來的字典new中判斷是否有rword這個人，沒有就返回0，\n",
    "    # 賦予rword鍵有就在原來rword所對應的值加1，並賦予rword鍵\n",
    "    new[word]=new.get(word,0)+1\n",
    "    allWordNum+=1\n",
    "\n",
    "for word in new :\n",
    "    new[word]=new[word]/allWordNum\n",
    "    \n",
    "#print(new)\n",
    "item=list(new.items())\n",
    "#print(new.items())\n",
    "#print(allWordNum)\n",
    "item.sort(key=lambda x:x[1],reverse=True)\n",
    "for i in range(100):\n",
    "    word,count=item[i]\n",
    "    wordArr.append(word)\n",
    "    countArr.append(count)"
   ]
  },
  {
   "cell_type": "markdown",
   "metadata": {},
   "source": [
    "### 頻率長條圖 "
   ]
  },
  {
   "cell_type": "code",
   "execution_count": 16,
   "metadata": {},
   "outputs": [
    {
     "name": "stdout",
     "output_type": "stream",
     "text": [
      "1 : 八卦\n",
      "2 : 有沒有\n",
      "3 : 什麼\n",
      "4 : 台灣\n",
      "5 : 可以\n",
      "6 : 是不是\n",
      "7 : 為什麼\n",
      "8 : 怎麼\n",
      "9 : 肥宅\n",
      "10 : 現在\n",
      "11 : 真的\n",
      "12 : 比較\n",
      "13 : 不會\n",
      "14 : 知道\n",
      "15 : 自己\n",
      "16 : 怎麼辦\n",
      "17 : 沒有\n",
      "18 : 不是\n",
      "19 : 還是\n",
      "20 : 一個\n",
      "21 : 就是\n",
      "22 : 如果\n",
      "23 : 一堆\n",
      "24 : 這樣\n",
      "25 : 一樣\n",
      "26 : 覺得\n",
      "27 : 怎樣\n",
      "28 : 到底\n",
      "29 : 日本\n",
      "30 : 喜歡\n",
      "31 : 不要\n",
      "32 : 時候\n",
      "33 : 大家\n",
      "34 : 美國\n",
      "35 : 有人\n",
      "36 : 很多\n",
      "37 : 為何\n",
      "38 : 台灣人\n",
      "39 : 應該\n",
      "40 : 問題\n",
      "41 : 感覺\n",
      "42 : 哪個\n",
      "43 : 幹嘛\n",
      "44 : 看到\n",
      "45 : 朋友\n",
      "46 : 這麼\n",
      "47 : 因為\n",
      "48 : 如何\n",
      "49 : 還有\n",
      "50 : 一直\n",
      "51 : 這種\n",
      "52 : 中國\n",
      "53 : 東西\n",
      "54 : 女生\n",
      "55 : 其實\n",
      "56 : 不能\n",
      "57 : 別人\n",
      "58 : 出來\n",
      "59 : 然後\n",
      "60 : 開始\n",
      "61 : 不用\n",
      "62 : 根本\n",
      "63 : 一定\n",
      "64 : 正妹\n",
      "65 : 國家\n",
      "66 : 多少\n",
      "67 : 國人\n",
      "68 : 那麼\n",
      "69 : 的話\n",
      "70 : 只有\n",
      "71 : 鄉民\n",
      "72 : 可能\n",
      "73 : 以前\n",
      "74 : 這個\n",
      "75 : 哪裡\n",
      "76 : 已經\n",
      "77 : 甚麼\n",
      "78 : QQ\n",
      "79 : 妹妹\n",
      "80 : 一下\n",
      "81 : 今天\n",
      "82 : 那個\n",
      "83 : 大學\n",
      "84 : 請問\n",
      "85 : 時間\n",
      "86 : 所以\n",
      "87 : 直接\n",
      "88 : 邊緣\n",
      "89 : 老師\n",
      "90 : 只是\n",
      "91 : 變成\n",
      "92 : 發現\n",
      "93 : 最後\n",
      "94 : 好吃\n",
      "95 : 韓國\n",
      "96 : 他們\n",
      "97 : 世界\n",
      "98 : 男生\n",
      "99 : 不到\n",
      "100 : 老婆\n"
     ]
    },
    {
     "data": {
      "text/plain": [
       "<BarContainer object of 100 artists>"
      ]
     },
     "execution_count": 16,
     "metadata": {},
     "output_type": "execute_result"
    },
    {
     "data": {
      "image/png": "[encoded data removed]",
      "text/plain": [
       "<Figure size 432x288 with 1 Axes>"
      ]
     },
     "metadata": {
      "needs_background": "light"
     },
     "output_type": "display_data"
    }
   ],
   "source": [
    "num = []\n",
    "index=1\n",
    "\n",
    "for i in range(100):\n",
    "    num.append(index)\n",
    "    print(index,\":\",wordArr[i])\n",
    "    index+=1\n",
    "plt.bar(num, countArr)"
   ]
  },
  {
   "cell_type": "markdown",
   "metadata": {},
   "source": [
    "### TF-IDF權重"
   ]
  },
  {
   "cell_type": "code",
   "execution_count": 19,
   "metadata": {},
   "outputs": [],
   "source": [
    "#參考https://keng-wei-lin.gitbook.io/awei_wd/text-minig/text-mining-lab\n",
    "from sklearn.feature_extraction.text import TfidfVectorizer\n",
    "import re\n",
    "totalContent = [] \n",
    "table = {}\n",
    "with open('hw1-dataset.txt',encoding=\"utf-8\") as f:\n",
    "    for line in f.readlines():\n",
    "        article = ''\n",
    "        words = jieba.lcut(line, cut_all=False)\n",
    "        for word in words:\n",
    "            if word ==( \"\\n\" or \"\\t\" or \" \"):\n",
    "                continue\n",
    "            m = re.match(r'^[\\u4E00-\\u9FFFa-zA-Z]+$',word )\n",
    "            if m is not None:\n",
    "                article += word\n",
    "                article += ' '\n",
    "        totalContent.append(article)\n",
    "## 權重值\n",
    "textWeightList = []\n",
    "if __name__ == \"__main__\":  \n",
    "    ##計算全部文章\n",
    "    tfIdfVectorizer = TfidfVectorizer()    \n",
    "    tfIdf = tfIdfVectorizer.fit_transform(totalContent)  \n",
    "    myWord=tfIdfVectorizer.get_feature_names()        \n",
    "    weight=tfIdf.toarray()        \n",
    "    for i in range(len(weight)):\n",
    "        textMining = {}       \n",
    "        for j in range(len(myWord)):             \n",
    "            textMining[myWord[j]] = weight[i][j]\n",
    "        textWeightList.append(textMining)\n",
    "for oneArticle in textWeightList:\n",
    "    dict1= sorted(oneArticle.items(), key=lambda d:d[1], reverse = True)\n",
    "    for i in range(0,10):\n",
    "        table.setdefault(dict1[i][0], dict1[i][1])\n",
    "new = sorted(table.items(), key=lambda e:e[1], reverse=True)\n",
    "\n",
    "weight =[]\n",
    "word = []\n",
    "for i in range(0, 100):\n",
    "    word.append(new[i][0])\n",
    "    weight.append(new[i][1])\n",
    "    "
   ]
  },
  {
   "cell_type": "markdown",
   "metadata": {},
   "source": [
    "### TF-IDF長條圖 "
   ]
  },
  {
   "cell_type": "code",
   "execution_count": 23,
   "metadata": {},
   "outputs": [
    {
     "name": "stdout",
     "output_type": "stream",
     "text": [
      "1 : 背叛\n",
      "2 : 嘿嘿\n",
      "3 : 孑子孓\n",
      "4 : 金正恩\n",
      "5 : 面議\n",
      "6 : 討喜\n",
      "7 : 廠廠\n",
      "8 : 蝴蝶\n",
      "9 : 歐歐\n",
      "10 : 霍霍\n",
      "11 : 還迎\n",
      "12 : 之於\n",
      "13 : 雷電\n",
      "14 : la\n",
      "15 : 張老師\n",
      "16 : 核核\n",
      "17 : 三門\n",
      "18 : 寒冰甲\n",
      "19 : 黎明\n",
      "20 : 盲腸\n",
      "21 : push\n",
      "22 : 親友團\n",
      "23 : 催眠術\n",
      "24 : 手尾\n",
      "25 : 甲組\n",
      "26 : 讓開\n",
      "27 : 運動選手\n",
      "28 : 罪名\n",
      "29 : 顏楷\n",
      "30 : 蓮舫\n",
      "31 : 咕咕\n",
      "32 : 開罐器\n",
      "33 : 打火機\n",
      "34 : 搖落\n",
      "35 : 禮拜三\n",
      "36 : 情緒化\n",
      "37 : kd\n",
      "38 : 提琴\n",
      "39 : 出入口\n",
      "40 : 脫節\n",
      "41 : 松屋\n",
      "42 : 海港\n",
      "43 : 進出\n",
      "44 : 貓貓\n",
      "45 : 一棟\n",
      "46 : 皇民化\n",
      "47 : 嗆夠\n",
      "48 : 金剛\n",
      "49 : 盒盒\n",
      "50 : 清純\n",
      "51 : 民族\n",
      "52 : 兩槍\n",
      "53 : 龍骨\n",
      "54 : 阿思\n",
      "55 : 黃玉郎\n",
      "56 : 奮起\n",
      "57 : 害臊\n",
      "58 : 磁片\n",
      "59 : 英吉\n",
      "60 : 馬肉\n",
      "61 : 短髮\n",
      "62 : 可麗露\n",
      "63 : pavone\n",
      "64 : 脫光\n",
      "65 : 八加\n",
      "66 : 咪路\n",
      "67 : 憂傷\n",
      "68 : 阿災\n",
      "69 : 雙親\n",
      "70 : 仇台\n",
      "71 : 當人\n",
      "72 : 排球\n",
      "73 : 公然侮辱\n",
      "74 : 九州\n",
      "75 : 過戶\n",
      "76 : 機車行\n",
      "77 : 看給\n",
      "78 : 桌椅\n",
      "79 : 滅國\n",
      "80 : 進口車\n",
      "81 : 求職\n",
      "82 : 炸蝦\n",
      "83 : 金牌\n",
      "84 : 聯徵\n",
      "85 : 烏骨雞\n",
      "86 : 改名字\n",
      "87 : easy\n",
      "88 : 米粉\n",
      "89 : 版吵\n",
      "90 : 芬蘭\n",
      "91 : 龍門客棧\n",
      "92 : special\n",
      "93 : 林依晨\n",
      "94 : 雙層\n",
      "95 : 紐約\n",
      "96 : 沒人記\n",
      "97 : 第二代\n",
      "98 : 人造\n",
      "99 : 捕手\n",
      "100 : 夠用\n"
     ]
    },
    {
     "data": {
      "text/plain": [
       "<BarContainer object of 100 artists>"
      ]
     },
     "execution_count": 23,
     "metadata": {},
     "output_type": "execute_result"
    },
    {
     "data": {
      "image/png": "[encoded data removed]",
      "text/plain": [
       "<Figure size 432x288 with 1 Axes>"
      ]
     },
     "metadata": {
      "needs_background": "light"
     },
     "output_type": "display_data"
    }
   ],
   "source": [
    "num = []\n",
    "index=1\n",
    "for i in range(100):\n",
    "    num.append(index)\n",
    "    print(index,\":\",word[i])\n",
    "    index+=1\n",
    "    \n",
    "#plt.figure(figsize=(50,5))\n",
    "plt.bar(num, weight)"
   ]
  },
  {
   "cell_type": "code",
   "execution_count": null,
   "metadata": {},
   "outputs": [],
   "source": []
  }
 ],
 "metadata": {
  "kernelspec": {
   "display_name": "Python 3",
   "language": "python",
   "name": "python3"
  },
  "language_info": {
   "codemirror_mode": {
    "name": "ipython",
    "version": 3
   },
   "file_extension": ".py",
   "mimetype": "text/x-python",
   "name": "python",
   "nbconvert_exporter": "python",
   "pygments_lexer": "ipython3",
   "version": "3.8.5"
  }
 },
 "nbformat": 4,
 "nbformat_minor": 4
}
